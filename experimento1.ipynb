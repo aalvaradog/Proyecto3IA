{
 "cells": [
  {
   "cell_type": "code",
   "execution_count": 2,
   "metadata": {},
   "outputs": [],
   "source": [
    "import os\n",
    "import torch\n",
    "import torch.nn as nn\n",
    "import torch.optim as optim\n",
    "from torchvision import datasets, models, transforms\n",
    "from torch.utils.data import DataLoader\n",
    "import pytorch_lightning as pl\n",
    "from pytorch_lightning.callbacks import ModelCheckpoint, EarlyStopping\n",
    "from pytorch_lightning.loggers import TensorBoardLogger\n",
    "from clasificadorA import VGG16Lightning\n",
    "from pytorch_lightning.loggers import WandbLogger\n",
    "import wandb"
   ]
  },
  {
   "cell_type": "markdown",
   "metadata": {},
   "source": [
    "# Clasificador A con 30%"
   ]
  },
  {
   "cell_type": "code",
   "execution_count": 3,
   "metadata": {},
   "outputs": [
    {
     "name": "stderr",
     "output_type": "stream",
     "text": [
      "Failed to detect the name of this notebook, you can set it manually with the WANDB_NOTEBOOK_NAME environment variable to enable code saving.\n",
      "\u001b[34m\u001b[1mwandb\u001b[0m: Currently logged in as: \u001b[33msebascam1498\u001b[0m (\u001b[33msebas1498\u001b[0m). Use \u001b[1m`wandb login --relogin`\u001b[0m to force relogin\n",
      "GPU available: True (cuda), used: True\n",
      "TPU available: False, using: 0 TPU cores\n",
      "IPU available: False, using: 0 IPUs\n",
      "HPU available: False, using: 0 HPUs\n",
      "c:\\ProgramData\\anaconda3\\envs\\NS_env\\Lib\\site-packages\\torchvision\\models\\_utils.py:208: UserWarning: The parameter 'pretrained' is deprecated since 0.13 and may be removed in the future, please use 'weights' instead.\n",
      "  warnings.warn(\n",
      "c:\\ProgramData\\anaconda3\\envs\\NS_env\\Lib\\site-packages\\torchvision\\models\\_utils.py:223: UserWarning: Arguments other than a weight enum or `None` for 'weights' are deprecated since 0.13 and may be removed in the future. The current behavior is equivalent to passing `weights=VGG16_Weights.IMAGENET1K_V1`. You can also use `weights=VGG16_Weights.DEFAULT` to get the most up-to-date weights.\n",
      "  warnings.warn(msg)\n"
     ]
    },
    {
     "data": {
      "text/html": [
       "wandb version 0.17.1 is available!  To upgrade, please run:\n",
       " $ pip install wandb --upgrade"
      ],
      "text/plain": [
       "<IPython.core.display.HTML object>"
      ]
     },
     "metadata": {},
     "output_type": "display_data"
    },
    {
     "data": {
      "text/html": [
       "Tracking run with wandb version 0.16.5"
      ],
      "text/plain": [
       "<IPython.core.display.HTML object>"
      ]
     },
     "metadata": {},
     "output_type": "display_data"
    },
    {
     "data": {
      "text/html": [
       "Run data is saved locally in <code>.\\wandb\\run-20240613_120834-xl5r9k4e</code>"
      ],
      "text/plain": [
       "<IPython.core.display.HTML object>"
      ]
     },
     "metadata": {},
     "output_type": "display_data"
    },
    {
     "data": {
      "text/html": [
       "Syncing run <strong><a href='https://wandb.ai/sebas1498/Proyecto3/runs/xl5r9k4e/workspace' target=\"_blank\">lucky-cloud-82</a></strong> to <a href='https://wandb.ai/sebas1498/Proyecto3' target=\"_blank\">Weights & Biases</a> (<a href='https://wandb.me/run' target=\"_blank\">docs</a>)<br/>"
      ],
      "text/plain": [
       "<IPython.core.display.HTML object>"
      ]
     },
     "metadata": {},
     "output_type": "display_data"
    },
    {
     "data": {
      "text/html": [
       " View project at <a href='https://wandb.ai/sebas1498/Proyecto3' target=\"_blank\">https://wandb.ai/sebas1498/Proyecto3</a>"
      ],
      "text/plain": [
       "<IPython.core.display.HTML object>"
      ]
     },
     "metadata": {},
     "output_type": "display_data"
    },
    {
     "data": {
      "text/html": [
       " View run at <a href='https://wandb.ai/sebas1498/Proyecto3/runs/xl5r9k4e/workspace' target=\"_blank\">https://wandb.ai/sebas1498/Proyecto3/runs/xl5r9k4e/workspace</a>"
      ],
      "text/plain": [
       "<IPython.core.display.HTML object>"
      ]
     },
     "metadata": {},
     "output_type": "display_data"
    },
    {
     "name": "stderr",
     "output_type": "stream",
     "text": [
      "LOCAL_RANK: 0 - CUDA_VISIBLE_DEVICES: [0]\n",
      "\n",
      "  | Name      | Type             | Params\n",
      "-----------------------------------------------\n",
      "0 | model     | VGG              | 134 M \n",
      "1 | criterion | CrossEntropyLoss | 0     \n",
      "-----------------------------------------------\n",
      "119 M     Trainable params\n",
      "14.7 M    Non-trainable params\n",
      "134 M     Total params\n",
      "537.534   Total estimated model params size (MB)\n"
     ]
    },
    {
     "name": "stdout",
     "output_type": "stream",
     "text": [
      "Sanity Checking: |          | 0/? [00:00<?, ?it/s]"
     ]
    },
    {
     "name": "stderr",
     "output_type": "stream",
     "text": [
      "c:\\ProgramData\\anaconda3\\envs\\NS_env\\Lib\\site-packages\\pytorch_lightning\\trainer\\connectors\\data_connector.py:492: Your `val_dataloader`'s sampler has shuffling enabled, it is strongly recommended that you turn shuffling off for val/test dataloaders.\n",
      "c:\\ProgramData\\anaconda3\\envs\\NS_env\\Lib\\site-packages\\pytorch_lightning\\trainer\\connectors\\data_connector.py:436: Consider setting `persistent_workers=True` in 'val_dataloader' to speed up the dataloader worker initialization.\n"
     ]
    },
    {
     "name": "stdout",
     "output_type": "stream",
     "text": [
      "                                                                           \r"
     ]
    },
    {
     "name": "stderr",
     "output_type": "stream",
     "text": [
      "c:\\ProgramData\\anaconda3\\envs\\NS_env\\Lib\\site-packages\\pytorch_lightning\\trainer\\connectors\\data_connector.py:436: Consider setting `persistent_workers=True` in 'train_dataloader' to speed up the dataloader worker initialization.\n"
     ]
    },
    {
     "name": "stdout",
     "output_type": "stream",
     "text": [
      "Epoch 7: 100%|██████████| 55/55 [00:28<00:00,  1.91it/s, v_num=9k4e, train_loss_step=0.0164, train_acc_step=1.000, valid_loss_step=0.707, valid_acc_step=0.857, valid_loss_epoch=0.446, valid_acc_epoch=0.900, valid_loss=0.462, valid_acc=0.897, train_loss_epoch=0.467, train_acc_epoch=0.864]\n"
     ]
    },
    {
     "name": "stderr",
     "output_type": "stream",
     "text": [
      "LOCAL_RANK: 0 - CUDA_VISIBLE_DEVICES: [0]\n",
      "c:\\ProgramData\\anaconda3\\envs\\NS_env\\Lib\\site-packages\\pytorch_lightning\\trainer\\connectors\\data_connector.py:492: Your `test_dataloader`'s sampler has shuffling enabled, it is strongly recommended that you turn shuffling off for val/test dataloaders.\n",
      "c:\\ProgramData\\anaconda3\\envs\\NS_env\\Lib\\site-packages\\pytorch_lightning\\trainer\\connectors\\data_connector.py:436: Consider setting `persistent_workers=True` in 'test_dataloader' to speed up the dataloader worker initialization.\n"
     ]
    },
    {
     "name": "stdout",
     "output_type": "stream",
     "text": [
      "Testing DataLoader 0: 100%|██████████| 8/8 [00:01<00:00,  6.38it/s]\n"
     ]
    },
    {
     "data": {
      "text/html": [
       "<pre style=\"white-space:pre;overflow-x:auto;line-height:normal;font-family:Menlo,'DejaVu Sans Mono',consolas,'Courier New',monospace\">┏━━━━━━━━━━━━━━━━━━━━━━━━━━━┳━━━━━━━━━━━━━━━━━━━━━━━━━━━┓\n",
       "┃<span style=\"font-weight: bold\">        Test metric        </span>┃<span style=\"font-weight: bold\">       DataLoader 0        </span>┃\n",
       "┡━━━━━━━━━━━━━━━━━━━━━━━━━━━╇━━━━━━━━━━━━━━━━━━━━━━━━━━━┩\n",
       "│<span style=\"color: #008080; text-decoration-color: #008080\">         test_acc          </span>│<span style=\"color: #800080; text-decoration-color: #800080\">        0.90234375         </span>│\n",
       "│<span style=\"color: #008080; text-decoration-color: #008080\">      test_acc_epoch       </span>│<span style=\"color: #800080; text-decoration-color: #800080\">            0.9            </span>│\n",
       "│<span style=\"color: #008080; text-decoration-color: #008080\">         test_loss         </span>│<span style=\"color: #800080; text-decoration-color: #800080\">    0.3589199185371399     </span>│\n",
       "│<span style=\"color: #008080; text-decoration-color: #008080\">      test_loss_epoch      </span>│<span style=\"color: #800080; text-decoration-color: #800080\">    0.37640079855918884    </span>│\n",
       "└───────────────────────────┴───────────────────────────┘\n",
       "</pre>\n"
      ],
      "text/plain": [
       "┏━━━━━━━━━━━━━━━━━━━━━━━━━━━┳━━━━━━━━━━━━━━━━━━━━━━━━━━━┓\n",
       "┃\u001b[1m \u001b[0m\u001b[1m       Test metric       \u001b[0m\u001b[1m \u001b[0m┃\u001b[1m \u001b[0m\u001b[1m      DataLoader 0       \u001b[0m\u001b[1m \u001b[0m┃\n",
       "┡━━━━━━━━━━━━━━━━━━━━━━━━━━━╇━━━━━━━━━━━━━━━━━━━━━━━━━━━┩\n",
       "│\u001b[36m \u001b[0m\u001b[36m        test_acc         \u001b[0m\u001b[36m \u001b[0m│\u001b[35m \u001b[0m\u001b[35m       0.90234375        \u001b[0m\u001b[35m \u001b[0m│\n",
       "│\u001b[36m \u001b[0m\u001b[36m     test_acc_epoch      \u001b[0m\u001b[36m \u001b[0m│\u001b[35m \u001b[0m\u001b[35m           0.9           \u001b[0m\u001b[35m \u001b[0m│\n",
       "│\u001b[36m \u001b[0m\u001b[36m        test_loss        \u001b[0m\u001b[36m \u001b[0m│\u001b[35m \u001b[0m\u001b[35m   0.3589199185371399    \u001b[0m\u001b[35m \u001b[0m│\n",
       "│\u001b[36m \u001b[0m\u001b[36m     test_loss_epoch     \u001b[0m\u001b[36m \u001b[0m│\u001b[35m \u001b[0m\u001b[35m   0.37640079855918884   \u001b[0m\u001b[35m \u001b[0m│\n",
       "└───────────────────────────┴───────────────────────────┘\n"
      ]
     },
     "metadata": {},
     "output_type": "display_data"
    },
    {
     "data": {
      "text/html": [
       "<style>\n",
       "    table.wandb td:nth-child(1) { padding: 0 10px; text-align: left ; width: auto;} td:nth-child(2) {text-align: left ; width: 100%}\n",
       "    .wandb-row { display: flex; flex-direction: row; flex-wrap: wrap; justify-content: flex-start; width: 100% }\n",
       "    .wandb-col { display: flex; flex-direction: column; flex-basis: 100%; flex: 1; padding: 10px; }\n",
       "    </style>\n",
       "<div class=\"wandb-row\"><div class=\"wandb-col\"><h3>Run history:</h3><br/><table class=\"wandb\"><tr><td>epoch</td><td>▁▁▁▂▂▂▃▃▃▄▄▄▅▅▅▅▅▅▆▆▆▇▇▇█</td></tr><tr><td>test_acc</td><td>▁</td></tr><tr><td>test_acc_epoch</td><td>▁</td></tr><tr><td>test_acc_step</td><td>▆▆▄▁█▄▄▆</td></tr><tr><td>test_loss</td><td>▁</td></tr><tr><td>test_loss_epoch</td><td>▁</td></tr><tr><td>test_loss_step</td><td>▃▃▅▇▁▃█▂</td></tr><tr><td>train_acc_epoch</td><td>▁▆▇█▇███</td></tr><tr><td>train_acc_step</td><td>▁▂▄▆█▅▇▅</td></tr><tr><td>train_loss_epoch</td><td>█▃▂▂▂▁▁▁</td></tr><tr><td>train_loss_step</td><td>█▅▄▂▁▃▂▂</td></tr><tr><td>trainer/global_step</td><td>▂▁▁▂▂▁▁▃▃▁▁▄▄▁▁▄▄▅▁▅▅▆▁▆▆▇▁▇▇▇▁██▁▁▁▁▁▁█</td></tr><tr><td>valid_acc</td><td>▁▇▅▆████</td></tr><tr><td>valid_acc_epoch</td><td>▁▇▅▇████</td></tr><tr><td>valid_acc_step</td><td>▁▁▁█▄▃▅▃▅▅▅▅▅▅▇▃</td></tr><tr><td>valid_loss</td><td>█▇▅▁▁▁▄▅</td></tr><tr><td>valid_loss_epoch</td><td>█▇▅▁▁▁▄▅</td></tr><tr><td>valid_loss_step</td><td>▆▅█▂▃▅▁▂▂▂▁▃▂▅▁▇</td></tr></table><br/></div><div class=\"wandb-col\"><h3>Run summary:</h3><br/><table class=\"wandb\"><tr><td>epoch</td><td>8</td></tr><tr><td>test_acc</td><td>0.90234</td></tr><tr><td>test_acc_epoch</td><td>0.9</td></tr><tr><td>test_acc_step</td><td>0.9375</td></tr><tr><td>test_loss</td><td>0.35892</td></tr><tr><td>test_loss_epoch</td><td>0.3764</td></tr><tr><td>test_loss_step</td><td>0.09671</td></tr><tr><td>train_acc_epoch</td><td>0.86374</td></tr><tr><td>train_acc_step</td><td>0.84375</td></tr><tr><td>train_loss_epoch</td><td>0.46715</td></tr><tr><td>train_loss_step</td><td>0.35643</td></tr><tr><td>trainer/global_step</td><td>440</td></tr><tr><td>valid_acc</td><td>0.89732</td></tr><tr><td>valid_acc_epoch</td><td>0.9</td></tr><tr><td>valid_acc_step</td><td>0.85714</td></tr><tr><td>valid_loss</td><td>0.46192</td></tr><tr><td>valid_loss_epoch</td><td>0.44558</td></tr><tr><td>valid_loss_step</td><td>0.70694</td></tr></table><br/></div></div>"
      ],
      "text/plain": [
       "<IPython.core.display.HTML object>"
      ]
     },
     "metadata": {},
     "output_type": "display_data"
    },
    {
     "data": {
      "text/html": [
       " View run <strong style=\"color:#cdcd00\">lucky-cloud-82</strong> at: <a href='https://wandb.ai/sebas1498/Proyecto3/runs/xl5r9k4e/workspace' target=\"_blank\">https://wandb.ai/sebas1498/Proyecto3/runs/xl5r9k4e/workspace</a><br/>Synced 6 W&B file(s), 0 media file(s), 0 artifact file(s) and 0 other file(s)"
      ],
      "text/plain": [
       "<IPython.core.display.HTML object>"
      ]
     },
     "metadata": {},
     "output_type": "display_data"
    },
    {
     "data": {
      "text/html": [
       "Find logs at: <code>.\\wandb\\run-20240613_120834-xl5r9k4e\\logs</code>"
      ],
      "text/plain": [
       "<IPython.core.display.HTML object>"
      ]
     },
     "metadata": {},
     "output_type": "display_data"
    }
   ],
   "source": [
    "# Inicializar el logger de Weights & Biases\n",
    "os.environ[\"WANDB_API_KEY\"] = \"ea93e82127178cd6709c03f277029a17909d3cbc\"\n",
    "wandb.login()\n",
    "\n",
    "wandb_logger = WandbLogger(project=\"Proyecto3\")\n",
    "\n",
    "# Definir callbacks\n",
    "early_stopping_callback = EarlyStopping(\n",
    "    monitor='valid_loss',\n",
    "    patience=3,\n",
    "    mode='min',\n",
    ")\n",
    "\n",
    "# Entrenador de PyTorch Lightning\n",
    "trainer = pl.Trainer(\n",
    "    max_epochs=10,\n",
    "    accelerator=\"gpu\",\n",
    "    callbacks=[early_stopping_callback],\n",
    "    logger=wandb_logger\n",
    ")\n",
    "\n",
    "\n",
    "\n",
    "# Definir el directorio de datos\n",
    "data_dir = r'C:\\Users\\Tony\\OneDrive\\Escritorio\\I semestre 2024\\IA\\Notebooks\\proyecto3\\DataSplit\\Data7030\\30'\n",
    "num_classes = len(os.listdir(os.path.join(data_dir, 'train')))\n",
    "\n",
    "# Crear y entrenar el modelo\n",
    "model = VGG16Lightning(data_dir=data_dir, num_classes=num_classes)\n",
    "trainer.fit(model)\n",
    "\n",
    "# Probar el modelo\n",
    "trainer.test(model)\n",
    "\n",
    "# Finalizar la corrida de wandb\n",
    "wandb.finish()"
   ]
  },
  {
   "cell_type": "markdown",
   "metadata": {},
   "source": [
    "# Clasificador A con 10% de los datos"
   ]
  },
  {
   "cell_type": "code",
   "execution_count": 4,
   "metadata": {},
   "outputs": [
    {
     "name": "stderr",
     "output_type": "stream",
     "text": [
      "GPU available: True (cuda), used: True\n",
      "TPU available: False, using: 0 TPU cores\n",
      "IPU available: False, using: 0 IPUs\n",
      "HPU available: False, using: 0 HPUs\n",
      "c:\\ProgramData\\anaconda3\\envs\\NS_env\\Lib\\site-packages\\torchvision\\models\\_utils.py:208: UserWarning: The parameter 'pretrained' is deprecated since 0.13 and may be removed in the future, please use 'weights' instead.\n",
      "  warnings.warn(\n",
      "c:\\ProgramData\\anaconda3\\envs\\NS_env\\Lib\\site-packages\\torchvision\\models\\_utils.py:223: UserWarning: Arguments other than a weight enum or `None` for 'weights' are deprecated since 0.13 and may be removed in the future. The current behavior is equivalent to passing `weights=VGG16_Weights.IMAGENET1K_V1`. You can also use `weights=VGG16_Weights.DEFAULT` to get the most up-to-date weights.\n",
      "  warnings.warn(msg)\n"
     ]
    },
    {
     "data": {
      "text/html": [
       "wandb version 0.17.1 is available!  To upgrade, please run:\n",
       " $ pip install wandb --upgrade"
      ],
      "text/plain": [
       "<IPython.core.display.HTML object>"
      ]
     },
     "metadata": {},
     "output_type": "display_data"
    },
    {
     "data": {
      "text/html": [
       "Tracking run with wandb version 0.16.5"
      ],
      "text/plain": [
       "<IPython.core.display.HTML object>"
      ]
     },
     "metadata": {},
     "output_type": "display_data"
    },
    {
     "data": {
      "text/html": [
       "Run data is saved locally in <code>.\\wandb\\run-20240613_121439-475rr7zb</code>"
      ],
      "text/plain": [
       "<IPython.core.display.HTML object>"
      ]
     },
     "metadata": {},
     "output_type": "display_data"
    },
    {
     "data": {
      "text/html": [
       "Syncing run <strong><a href='https://wandb.ai/sebas1498/Proyecto3/runs/475rr7zb/workspace' target=\"_blank\">stellar-firebrand-83</a></strong> to <a href='https://wandb.ai/sebas1498/Proyecto3' target=\"_blank\">Weights & Biases</a> (<a href='https://wandb.me/run' target=\"_blank\">docs</a>)<br/>"
      ],
      "text/plain": [
       "<IPython.core.display.HTML object>"
      ]
     },
     "metadata": {},
     "output_type": "display_data"
    },
    {
     "data": {
      "text/html": [
       " View project at <a href='https://wandb.ai/sebas1498/Proyecto3' target=\"_blank\">https://wandb.ai/sebas1498/Proyecto3</a>"
      ],
      "text/plain": [
       "<IPython.core.display.HTML object>"
      ]
     },
     "metadata": {},
     "output_type": "display_data"
    },
    {
     "data": {
      "text/html": [
       " View run at <a href='https://wandb.ai/sebas1498/Proyecto3/runs/475rr7zb/workspace' target=\"_blank\">https://wandb.ai/sebas1498/Proyecto3/runs/475rr7zb/workspace</a>"
      ],
      "text/plain": [
       "<IPython.core.display.HTML object>"
      ]
     },
     "metadata": {},
     "output_type": "display_data"
    },
    {
     "name": "stderr",
     "output_type": "stream",
     "text": [
      "LOCAL_RANK: 0 - CUDA_VISIBLE_DEVICES: [0]\n",
      "\n",
      "  | Name      | Type             | Params\n",
      "-----------------------------------------------\n",
      "0 | model     | VGG              | 134 M \n",
      "1 | criterion | CrossEntropyLoss | 0     \n",
      "-----------------------------------------------\n",
      "119 M     Trainable params\n",
      "14.7 M    Non-trainable params\n",
      "134 M     Total params\n",
      "537.534   Total estimated model params size (MB)\n"
     ]
    },
    {
     "name": "stdout",
     "output_type": "stream",
     "text": [
      "Sanity Checking: |          | 0/? [00:00<?, ?it/s]"
     ]
    },
    {
     "name": "stderr",
     "output_type": "stream",
     "text": [
      "c:\\ProgramData\\anaconda3\\envs\\NS_env\\Lib\\site-packages\\pytorch_lightning\\trainer\\connectors\\data_connector.py:492: Your `val_dataloader`'s sampler has shuffling enabled, it is strongly recommended that you turn shuffling off for val/test dataloaders.\n",
      "c:\\ProgramData\\anaconda3\\envs\\NS_env\\Lib\\site-packages\\pytorch_lightning\\trainer\\connectors\\data_connector.py:436: Consider setting `persistent_workers=True` in 'val_dataloader' to speed up the dataloader worker initialization.\n"
     ]
    },
    {
     "name": "stdout",
     "output_type": "stream",
     "text": [
      "                                                                           \r"
     ]
    },
    {
     "name": "stderr",
     "output_type": "stream",
     "text": [
      "c:\\ProgramData\\anaconda3\\envs\\NS_env\\Lib\\site-packages\\pytorch_lightning\\trainer\\connectors\\data_connector.py:436: Consider setting `persistent_workers=True` in 'train_dataloader' to speed up the dataloader worker initialization.\n",
      "c:\\ProgramData\\anaconda3\\envs\\NS_env\\Lib\\site-packages\\pytorch_lightning\\loops\\fit_loop.py:298: The number of training batches (19) is smaller than the logging interval Trainer(log_every_n_steps=50). Set a lower value for log_every_n_steps if you want to see logs for the training epoch.\n"
     ]
    },
    {
     "name": "stdout",
     "output_type": "stream",
     "text": [
      "Epoch 5: 100%|██████████| 19/19 [00:29<00:00,  0.65it/s, v_num=r7zb, train_loss_step=0.620, train_acc_step=0.727, valid_loss_step=0.638, valid_acc_step=0.733, valid_loss_epoch=0.638, valid_acc_epoch=0.733, valid_loss=0.638, valid_acc=0.733, train_loss_epoch=0.559, train_acc_epoch=0.843]\n"
     ]
    },
    {
     "name": "stderr",
     "output_type": "stream",
     "text": [
      "LOCAL_RANK: 0 - CUDA_VISIBLE_DEVICES: [0]\n",
      "c:\\ProgramData\\anaconda3\\envs\\NS_env\\Lib\\site-packages\\pytorch_lightning\\trainer\\connectors\\data_connector.py:492: Your `test_dataloader`'s sampler has shuffling enabled, it is strongly recommended that you turn shuffling off for val/test dataloaders.\n",
      "c:\\ProgramData\\anaconda3\\envs\\NS_env\\Lib\\site-packages\\pytorch_lightning\\trainer\\connectors\\data_connector.py:436: Consider setting `persistent_workers=True` in 'test_dataloader' to speed up the dataloader worker initialization.\n"
     ]
    },
    {
     "name": "stdout",
     "output_type": "stream",
     "text": [
      "Testing DataLoader 0: 100%|██████████| 3/3 [00:00<00:00,  4.56it/s]\n"
     ]
    },
    {
     "data": {
      "text/html": [
       "<pre style=\"white-space:pre;overflow-x:auto;line-height:normal;font-family:Menlo,'DejaVu Sans Mono',consolas,'Courier New',monospace\">┏━━━━━━━━━━━━━━━━━━━━━━━━━━━┳━━━━━━━━━━━━━━━━━━━━━━━━━━━┓\n",
       "┃<span style=\"font-weight: bold\">        Test metric        </span>┃<span style=\"font-weight: bold\">       DataLoader 0        </span>┃\n",
       "┡━━━━━━━━━━━━━━━━━━━━━━━━━━━╇━━━━━━━━━━━━━━━━━━━━━━━━━━━┩\n",
       "│<span style=\"color: #008080; text-decoration-color: #008080\">         test_acc          </span>│<span style=\"color: #800080; text-decoration-color: #800080\">    0.8004807692307692     </span>│\n",
       "│<span style=\"color: #008080; text-decoration-color: #008080\">      test_acc_epoch       </span>│<span style=\"color: #800080; text-decoration-color: #800080\">            0.8            </span>│\n",
       "│<span style=\"color: #008080; text-decoration-color: #008080\">         test_loss         </span>│<span style=\"color: #800080; text-decoration-color: #800080\">    0.48573312163352966    </span>│\n",
       "│<span style=\"color: #008080; text-decoration-color: #008080\">      test_loss_epoch      </span>│<span style=\"color: #800080; text-decoration-color: #800080\">    0.49788182973861694    </span>│\n",
       "└───────────────────────────┴───────────────────────────┘\n",
       "</pre>\n"
      ],
      "text/plain": [
       "┏━━━━━━━━━━━━━━━━━━━━━━━━━━━┳━━━━━━━━━━━━━━━━━━━━━━━━━━━┓\n",
       "┃\u001b[1m \u001b[0m\u001b[1m       Test metric       \u001b[0m\u001b[1m \u001b[0m┃\u001b[1m \u001b[0m\u001b[1m      DataLoader 0       \u001b[0m\u001b[1m \u001b[0m┃\n",
       "┡━━━━━━━━━━━━━━━━━━━━━━━━━━━╇━━━━━━━━━━━━━━━━━━━━━━━━━━━┩\n",
       "│\u001b[36m \u001b[0m\u001b[36m        test_acc         \u001b[0m\u001b[36m \u001b[0m│\u001b[35m \u001b[0m\u001b[35m   0.8004807692307692    \u001b[0m\u001b[35m \u001b[0m│\n",
       "│\u001b[36m \u001b[0m\u001b[36m     test_acc_epoch      \u001b[0m\u001b[36m \u001b[0m│\u001b[35m \u001b[0m\u001b[35m           0.8           \u001b[0m\u001b[35m \u001b[0m│\n",
       "│\u001b[36m \u001b[0m\u001b[36m        test_loss        \u001b[0m\u001b[36m \u001b[0m│\u001b[35m \u001b[0m\u001b[35m   0.48573312163352966   \u001b[0m\u001b[35m \u001b[0m│\n",
       "│\u001b[36m \u001b[0m\u001b[36m     test_loss_epoch     \u001b[0m\u001b[36m \u001b[0m│\u001b[35m \u001b[0m\u001b[35m   0.49788182973861694   \u001b[0m\u001b[35m \u001b[0m│\n",
       "└───────────────────────────┴───────────────────────────┘\n"
      ]
     },
     "metadata": {},
     "output_type": "display_data"
    },
    {
     "data": {
      "text/html": [
       "<style>\n",
       "    table.wandb td:nth-child(1) { padding: 0 10px; text-align: left ; width: auto;} td:nth-child(2) {text-align: left ; width: 100%}\n",
       "    .wandb-row { display: flex; flex-direction: row; flex-wrap: wrap; justify-content: flex-start; width: 100% }\n",
       "    .wandb-col { display: flex; flex-direction: column; flex-basis: 100%; flex: 1; padding: 10px; }\n",
       "    </style>\n",
       "<div class=\"wandb-row\"><div class=\"wandb-col\"><h3>Run history:</h3><br/><table class=\"wandb\"><tr><td>epoch</td><td>▁▁▂▂▃▃▃▅▅▆▆▇▇▇█</td></tr><tr><td>test_acc</td><td>▁</td></tr><tr><td>test_acc_epoch</td><td>▁</td></tr><tr><td>test_acc_step</td><td>█▁▇</td></tr><tr><td>test_loss</td><td>▁</td></tr><tr><td>test_loss_epoch</td><td>▁</td></tr><tr><td>test_loss_step</td><td>██▁</td></tr><tr><td>train_acc_epoch</td><td>▁▆▇▇██</td></tr><tr><td>train_acc_step</td><td>▁█</td></tr><tr><td>train_loss_epoch</td><td>█▃▂▂▁▁</td></tr><tr><td>train_loss_step</td><td>█▁</td></tr><tr><td>trainer/global_step</td><td>▁▂▂▁▃▃▄▁▄▄▁▆▆▁▇▇▇▁██▁▁▁█</td></tr><tr><td>valid_acc</td><td>▁▇██▅▄</td></tr><tr><td>valid_acc_epoch</td><td>▁▇██▅▄</td></tr><tr><td>valid_acc_step</td><td>▁▇██▅▄</td></tr><tr><td>valid_loss</td><td>█▂▁▂▂▃</td></tr><tr><td>valid_loss_epoch</td><td>█▂▁▂▂▃</td></tr><tr><td>valid_loss_step</td><td>█▂▁▂▂▃</td></tr></table><br/></div><div class=\"wandb-col\"><h3>Run summary:</h3><br/><table class=\"wandb\"><tr><td>epoch</td><td>6</td></tr><tr><td>test_acc</td><td>0.80048</td></tr><tr><td>test_acc_epoch</td><td>0.8</td></tr><tr><td>test_acc_step</td><td>0.80769</td></tr><tr><td>test_loss</td><td>0.48573</td></tr><tr><td>test_loss_epoch</td><td>0.49788</td></tr><tr><td>test_loss_step</td><td>0.3035</td></tr><tr><td>train_acc_epoch</td><td>0.84327</td></tr><tr><td>train_acc_step</td><td>0.875</td></tr><tr><td>train_loss_epoch</td><td>0.55865</td></tr><tr><td>train_loss_step</td><td>0.41018</td></tr><tr><td>trainer/global_step</td><td>114</td></tr><tr><td>valid_acc</td><td>0.73333</td></tr><tr><td>valid_acc_epoch</td><td>0.73333</td></tr><tr><td>valid_acc_step</td><td>0.73333</td></tr><tr><td>valid_loss</td><td>0.63805</td></tr><tr><td>valid_loss_epoch</td><td>0.63805</td></tr><tr><td>valid_loss_step</td><td>0.63805</td></tr></table><br/></div></div>"
      ],
      "text/plain": [
       "<IPython.core.display.HTML object>"
      ]
     },
     "metadata": {},
     "output_type": "display_data"
    },
    {
     "data": {
      "text/html": [
       " View run <strong style=\"color:#cdcd00\">stellar-firebrand-83</strong> at: <a href='https://wandb.ai/sebas1498/Proyecto3/runs/475rr7zb/workspace' target=\"_blank\">https://wandb.ai/sebas1498/Proyecto3/runs/475rr7zb/workspace</a><br/>Synced 6 W&B file(s), 0 media file(s), 0 artifact file(s) and 0 other file(s)"
      ],
      "text/plain": [
       "<IPython.core.display.HTML object>"
      ]
     },
     "metadata": {},
     "output_type": "display_data"
    },
    {
     "data": {
      "text/html": [
       "Find logs at: <code>.\\wandb\\run-20240613_121439-475rr7zb\\logs</code>"
      ],
      "text/plain": [
       "<IPython.core.display.HTML object>"
      ]
     },
     "metadata": {},
     "output_type": "display_data"
    }
   ],
   "source": [
    "os.environ[\"WANDB_API_KEY\"] = \"ea93e82127178cd6709c03f277029a17909d3cbc\"\n",
    "wandb.login()\n",
    "\n",
    "wandb_logger = WandbLogger(project=\"Proyecto3\")\n",
    "\n",
    "# Definir callbacks\n",
    "early_stopping_callback = EarlyStopping(\n",
    "    monitor='valid_loss',\n",
    "    patience=3,\n",
    "    mode='min',\n",
    ")\n",
    "\n",
    "# Entrenador de PyTorch Lightning\n",
    "trainer = pl.Trainer(\n",
    "    max_epochs=10,\n",
    "    accelerator=\"gpu\",\n",
    "    callbacks=[early_stopping_callback],\n",
    "    logger=wandb_logger\n",
    ")\n",
    "\n",
    "# Definir el directorio de datos\n",
    "data_dir = r'C:\\Users\\Tony\\OneDrive\\Escritorio\\I semestre 2024\\IA\\Notebooks\\proyecto3\\DataSplit\\Data9010\\10'\n",
    "num_classes = len(os.listdir(os.path.join(data_dir, 'train')))\n",
    "\n",
    "# Crear y entrenar el modelo\n",
    "model = VGG16Lightning(data_dir=data_dir, num_classes=num_classes)\n",
    "trainer.fit(model)\n",
    "\n",
    "# Probar el modelo\n",
    "trainer.test(model)\n",
    "\n",
    "# Finalizar la corrida de wandb\n",
    "wandb.finish()"
   ]
  }
 ],
 "metadata": {
  "kernelspec": {
   "display_name": "NS_env",
   "language": "python",
   "name": "python3"
  },
  "language_info": {
   "codemirror_mode": {
    "name": "ipython",
    "version": 3
   },
   "file_extension": ".py",
   "mimetype": "text/x-python",
   "name": "python",
   "nbconvert_exporter": "python",
   "pygments_lexer": "ipython3",
   "version": "3.12.3"
  }
 },
 "nbformat": 4,
 "nbformat_minor": 2
}
